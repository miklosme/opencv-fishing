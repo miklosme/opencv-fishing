{
 "cells": [
  {
   "cell_type": "code",
   "execution_count": 5,
   "id": "e60bc932-b3ad-4387-b4a0-1d54cef08f1f",
   "metadata": {},
   "outputs": [
    {
     "name": "stdout",
     "output_type": "stream",
     "text": [
      "\u001b[1;32mInstalling opencv-python\u001b[0m\u001b[1;33m...\u001b[0m\n",
      "\u001b[?25lResolving opencv-python\u001b[33m...\u001b[0m\n",
      "\u001b[2K\u001b[1mAdded \u001b[0m\u001b[1;32mopencv-python\u001b[0m to Pipfile's \u001b[1;33m[\u001b[0m\u001b[33mpackages\u001b[0m\u001b[1;33m]\u001b[0m \u001b[33m...\u001b[0m\n",
      "\u001b[2K✔ Installation Succeeded-python...\n",
      "\u001b[2K\u001b[32m⠋\u001b[0m Installing opencv-python...\n",
      "\u001b[1A\u001b[2K\u001b[1;33mPipfile.lock \u001b[0m\u001b[1;33m(\u001b[0m\u001b[1;33md841b9\u001b[0m\u001b[1;33m)\u001b[0m\u001b[1;33m out of date, updating to \u001b[0m\u001b[1;33m(\u001b[0m\u001b[1;33mff91d1\u001b[0m\u001b[1;33m)\u001b[0m\u001b[1;33m...\u001b[0m\n",
      "Locking\u001b[0m \u001b[33m[packages]\u001b[0m dependencies...\u001b[0m\n",
      "\u001b[?25lBuilding requirements\u001b[33m...\u001b[0m\n",
      "\u001b[2KResolving dependencies\u001b[33m...\u001b[0m\n",
      "\u001b[2K✔ Success! Locking...\n",
      "\u001b[2K\u001b[32m⠸\u001b[0m Locking...\n",
      "\u001b[1A\u001b[2KLocking\u001b[0m \u001b[33m[dev-packages]\u001b[0m dependencies...\u001b[0m\n",
      "\u001b[1mUpdated Pipfile.lock (dc9ac101c7117b44308bb3134f17a8f7bf6b2e361c8e0375780405869aff91d1)!\u001b[0m\n",
      "\u001b[1mInstalling dependencies from Pipfile.lock \u001b[0m\u001b[1m(\u001b[0m\u001b[1mff91d1\u001b[0m\u001b[1m)\u001b[0m\u001b[1;33m...\u001b[0m\n"
     ]
    }
   ],
   "source": [
    "!pipenv install opencv-python"
   ]
  },
  {
   "cell_type": "code",
   "execution_count": 32,
   "id": "7c67d46a-c5fd-428f-a15b-4fea157a5917",
   "metadata": {},
   "outputs": [
    {
     "name": "stdout",
     "output_type": "stream",
     "text": [
      "\u001b[1;32mInstalling pyautogui\u001b[0m\u001b[1;33m...\u001b[0m\n",
      "\u001b[?25lResolving pyautogui\u001b[33m...\u001b[0m\n",
      "\u001b[2K\u001b[1mAdded \u001b[0m\u001b[1;32mpyautogui\u001b[0m to Pipfile's \u001b[1;33m[\u001b[0m\u001b[33mpackages\u001b[0m\u001b[1;33m]\u001b[0m \u001b[33m...\u001b[0m\n",
      "\u001b[2K✔ Installation Succeededgui...\n",
      "\u001b[2K\u001b[32m⠋\u001b[0m Installing pyautogui...\n",
      "\u001b[1A\u001b[2K\u001b[1;33mPipfile.lock \u001b[0m\u001b[1;33m(\u001b[0m\u001b[1;33mff91d1\u001b[0m\u001b[1;33m)\u001b[0m\u001b[1;33m out of date, updating to \u001b[0m\u001b[1;33m(\u001b[0m\u001b[1;36m1e9306\u001b[0m\u001b[1;33m)\u001b[0m\u001b[1;33m...\u001b[0m\n",
      "Locking\u001b[0m \u001b[33m[packages]\u001b[0m dependencies...\u001b[0m\n",
      "\u001b[?25lBuilding requirements\u001b[33m...\u001b[0m\n",
      "\u001b[2KResolving dependencies\u001b[33m...\u001b[0m\n",
      "\u001b[2K✔ Success! Locking...\n",
      "\u001b[2K\u001b[32m⠸\u001b[0m Locking...\n",
      "\u001b[1A\u001b[2KLocking\u001b[0m \u001b[33m[dev-packages]\u001b[0m dependencies...\u001b[0m\n",
      "\u001b[1mUpdated Pipfile.lock (b75283a316123f11d94bca0c6492cf86a2179f22904491fdf85d2556111e9306)!\u001b[0m\n",
      "\u001b[1mInstalling dependencies from Pipfile.lock \u001b[0m\u001b[1m(\u001b[0m\u001b[1;36m1e9306\u001b[0m\u001b[1m)\u001b[0m\u001b[1;33m...\u001b[0m\n"
     ]
    }
   ],
   "source": [
    "!pipenv install pyautogui"
   ]
  },
  {
   "cell_type": "code",
   "execution_count": 60,
   "id": "e82e57ce-3e8f-44d6-99bc-3263eba6d906",
   "metadata": {},
   "outputs": [
    {
     "name": "stdout",
     "output_type": "stream",
     "text": [
      "\u001b[1;32mInstalling Pillow\u001b[0m\u001b[1;33m...\u001b[0m\n",
      "\u001b[?25lResolving Pillow\u001b[33m...\u001b[0m\n",
      "\u001b[2K\u001b[1mAdded \u001b[0m\u001b[1;32mpillow\u001b[0m to Pipfile's \u001b[1;33m[\u001b[0m\u001b[33mpackages\u001b[0m\u001b[1;33m]\u001b[0m \u001b[33m...\u001b[0m\n",
      "\u001b[2K✔ Installation Succeeded...\n",
      "\u001b[2K\u001b[32m⠋\u001b[0m Installing Pillow...\n",
      "\u001b[1A\u001b[2K\u001b[1;33mPipfile.lock \u001b[0m\u001b[1;33m(\u001b[0m\u001b[1;36m1e9306\u001b[0m\u001b[1;33m)\u001b[0m\u001b[1;33m out of date, updating to \u001b[0m\u001b[1;33m(\u001b[0m\u001b[1;33m4412a3\u001b[0m\u001b[1;33m)\u001b[0m\u001b[1;33m...\u001b[0m\n",
      "Locking\u001b[0m \u001b[33m[packages]\u001b[0m dependencies...\u001b[0m\n",
      "\u001b[?25lBuilding requirements\u001b[33m...\u001b[0m\n",
      "\u001b[2KResolving dependencies\u001b[33m...\u001b[0m\n",
      "\u001b[2K✔ Success! Locking...\n",
      "\u001b[2K\u001b[32m⠸\u001b[0m Locking...\n",
      "\u001b[1A\u001b[2KLocking\u001b[0m \u001b[33m[dev-packages]\u001b[0m dependencies...\u001b[0m\n",
      "\u001b[1mUpdated Pipfile.lock (af38ab80e426fc97db7b24af945beed2d71bd09e4f028586f6ada825e04412a3)!\u001b[0m\n",
      "\u001b[1mInstalling dependencies from Pipfile.lock \u001b[0m\u001b[1m(\u001b[0m\u001b[1m4412a3\u001b[0m\u001b[1m)\u001b[0m\u001b[1;33m...\u001b[0m\n"
     ]
    }
   ],
   "source": [
    "!pipenv install Pillow"
   ]
  },
  {
   "cell_type": "code",
   "execution_count": 61,
   "id": "8e4f1d97-c0fc-40d0-a136-9e7394963dd2",
   "metadata": {},
   "outputs": [
    {
     "name": "stdout",
     "output_type": "stream",
     "text": [
      "\u001b[1;32mInstalling mss\u001b[0m\u001b[1;33m...\u001b[0m\n",
      "\u001b[?25lResolving mss\u001b[33m...\u001b[0m\n",
      "\u001b[2K\u001b[1mAdded \u001b[0m\u001b[1;32mmss\u001b[0m to Pipfile's \u001b[1;33m[\u001b[0m\u001b[33mpackages\u001b[0m\u001b[1;33m]\u001b[0m \u001b[33m...\u001b[0m\n",
      "\u001b[2K✔ Installation Succeeded\n",
      "\u001b[2K\u001b[32m⠋\u001b[0m Installing mss...\n",
      "\u001b[1A\u001b[2K\u001b[1;33mPipfile.lock \u001b[0m\u001b[1;33m(\u001b[0m\u001b[1;33m4412a3\u001b[0m\u001b[1;33m)\u001b[0m\u001b[1;33m out of date, updating to \u001b[0m\u001b[1;33m(\u001b[0m\u001b[1;33m2e4ab4\u001b[0m\u001b[1;33m)\u001b[0m\u001b[1;33m...\u001b[0m\n",
      "Locking\u001b[0m \u001b[33m[packages]\u001b[0m dependencies...\u001b[0m\n",
      "\u001b[?25lBuilding requirements\u001b[33m...\u001b[0m\n",
      "\u001b[2KResolving dependencies\u001b[33m...\u001b[0m\n",
      "\u001b[2K✔ Success! Locking...\n",
      "\u001b[2K\u001b[32m⠋\u001b[0m Locking...\n",
      "\u001b[1A\u001b[2KLocking\u001b[0m \u001b[33m[dev-packages]\u001b[0m dependencies...\u001b[0m\n",
      "\u001b[1mUpdated Pipfile.lock (921fc1b354d0aecdaeb71ea370b136fa4d6f385e0abd5c821512ab86022e4ab4)!\u001b[0m\n",
      "\u001b[1mInstalling dependencies from Pipfile.lock \u001b[0m\u001b[1m(\u001b[0m\u001b[1m2e4ab4\u001b[0m\u001b[1m)\u001b[0m\u001b[1;33m...\u001b[0m\n"
     ]
    }
   ],
   "source": [
    "!pipenv install mss"
   ]
  },
  {
   "cell_type": "code",
   "execution_count": 40,
   "id": "8045e719-3b78-4442-a762-660a41ed9922",
   "metadata": {},
   "outputs": [],
   "source": [
    "import cv2\n",
    "import numpy as np\n",
    "import pyautogui"
   ]
  },
  {
   "cell_type": "code",
   "execution_count": 41,
   "id": "70fa47eb-77a6-408f-9bfe-f01d8e787eed",
   "metadata": {},
   "outputs": [],
   "source": [
    "water_img = cv2.imread('water.png', cv2.IMREAD_UNCHANGED)\n",
    "lure_img = cv2.imread('lure.png', cv2.IMREAD_UNCHANGED)\n",
    "catch_img = cv2.imread('catch.png', cv2.IMREAD_UNCHANGED)"
   ]
  },
  {
   "cell_type": "code",
   "execution_count": 51,
   "id": "b17a4bac-6b1e-4767-8e00-dcb41b2c8eb5",
   "metadata": {},
   "outputs": [],
   "source": [
    "cv2.imshow('Water', water_img)\n",
    "cv2.waitKey()\n",
    "cv2.destroyAllWindows()"
   ]
  },
  {
   "cell_type": "code",
   "execution_count": 52,
   "id": "75802153-2f0b-4241-836c-3c4517a29ef7",
   "metadata": {},
   "outputs": [],
   "source": [
    "# result = cv2.matchTemplate(water_img, catch_img, cv2.TM_CCOEFF_NORMED)\n",
    "result = cv2.matchTemplate(water_img, lure_img, cv2.TM_SQDIFF_NORMED)"
   ]
  },
  {
   "cell_type": "code",
   "execution_count": 53,
   "id": "6d0f7367-6dc0-496d-812f-04968cf9a32c",
   "metadata": {},
   "outputs": [],
   "source": [
    "# cv2.imshow('Result', result)\n",
    "# cv2.waitKey()\n",
    "# cv2.destroyAllWindows()"
   ]
  },
  {
   "cell_type": "code",
   "execution_count": 54,
   "id": "f6fd7fd1-a43f-45b1-b450-3a21e14c6382",
   "metadata": {},
   "outputs": [],
   "source": [
    "minv, maxv, minl, maxl = cv2.minMaxLoc(result)"
   ]
  },
  {
   "cell_type": "code",
   "execution_count": 55,
   "id": "c8089210-d14c-48ba-8028-7315eab64613",
   "metadata": {},
   "outputs": [],
   "source": [
    "# maxl"
   ]
  },
  {
   "cell_type": "code",
   "execution_count": 56,
   "id": "f649133e-4418-43ec-bdf0-24f7abb84ff3",
   "metadata": {},
   "outputs": [],
   "source": [
    "# w = lure_img.shape[1]\n",
    "# h = lure_img.shape[0]"
   ]
  },
  {
   "cell_type": "code",
   "execution_count": 57,
   "id": "aa2449e5-2951-4390-8b5d-9c41f7505982",
   "metadata": {},
   "outputs": [],
   "source": [
    "# cv2.rectangle(water_img, maxl, (maxl[0] + w, maxl[1] + h), (0,255,255), 2)"
   ]
  },
  {
   "cell_type": "code",
   "execution_count": 58,
   "id": "27f0cfa0-7f2b-4973-8ce7-8880396930cb",
   "metadata": {},
   "outputs": [],
   "source": [
    "# pyautogui.position()"
   ]
  },
  {
   "cell_type": "code",
   "execution_count": 59,
   "id": "f5761d3f-cd5b-4804-867c-812b662808bf",
   "metadata": {},
   "outputs": [],
   "source": [
    "pyautogui.moveTo(x=maxl[0], y=maxl[1], duration=0.7)"
   ]
  },
  {
   "cell_type": "code",
   "execution_count": null,
   "id": "3d1a945a-ae82-4efa-95c8-c56ffb1ab5fe",
   "metadata": {},
   "outputs": [],
   "source": []
  }
 ],
 "metadata": {
  "kernelspec": {
   "display_name": "Python 3 (ipykernel)",
   "language": "python",
   "name": "python3"
  },
  "language_info": {
   "codemirror_mode": {
    "name": "ipython",
    "version": 3
   },
   "file_extension": ".py",
   "mimetype": "text/x-python",
   "name": "python",
   "nbconvert_exporter": "python",
   "pygments_lexer": "ipython3",
   "version": "3.11.7"
  }
 },
 "nbformat": 4,
 "nbformat_minor": 5
}
