{
 "cells": [
  {
   "cell_type": "code",
   "execution_count": 1,
   "id": "d31f9f03-b719-460f-9a11-5010b3820eb4",
   "metadata": {},
   "outputs": [
    {
     "name": "stdout",
     "output_type": "stream",
     "text": [
      "\u001b[1;32mInstalling opencv-python\u001b[0m\u001b[1;33m...\u001b[0m\n",
      "\u001b[?25lResolving opencv-python\u001b[33m...\u001b[0m\n",
      "\u001b[2K✔ Installation Succeeded\n",
      "\u001b[2K\u001b[32m⠋\u001b[0m Installing opencv-python...\n",
      "\u001b[1A\u001b[2K\u001b[1;32mInstalling pyautogui\u001b[0m\u001b[1;33m...\u001b[0m\n",
      "\u001b[?25lResolving pyautogui\u001b[33m...\u001b[0m\n",
      "\u001b[2K✔ Installation Succeeded\n",
      "\u001b[2K\u001b[32m⠋\u001b[0m Installing pyautogui...\n",
      "\u001b[1A\u001b[2K\u001b[1;32mInstalling Pillow\u001b[0m\u001b[1;33m...\u001b[0m\n",
      "\u001b[?25lResolving Pillow\u001b[33m...\u001b[0m\n",
      "\u001b[2K✔ Installation Succeeded\n",
      "\u001b[2K\u001b[32m⠋\u001b[0m Installing Pillow...\n",
      "\u001b[1A\u001b[2K\u001b[1;32mInstalling mss\u001b[0m\u001b[1;33m...\u001b[0m\n",
      "\u001b[?25lResolving mss\u001b[33m...\u001b[0m\n",
      "\u001b[2K✔ Installation Succeeded\n",
      "\u001b[2K\u001b[32m⠋\u001b[0m Installing mss...\n",
      "\u001b[1A\u001b[2K\u001b[1mInstalling dependencies from Pipfile.lock \u001b[0m\u001b[1m(\u001b[0m\u001b[1m2e4ab4\u001b[0m\u001b[1m)\u001b[0m\u001b[1;33m...\u001b[0m\n"
     ]
    }
   ],
   "source": [
    "!pipenv install opencv-python pyautogui Pillow mss"
   ]
  },
  {
   "cell_type": "code",
   "execution_count": 45,
   "id": "914c5f0f-f880-4b4c-ab0e-7a48e9bd78c9",
   "metadata": {},
   "outputs": [],
   "source": [
    "import cv2 as cv\n",
    "import numpy as np\n",
    "import pyautogui\n",
    "from mss import mss\n",
    "from PIL import Image"
   ]
  },
  {
   "cell_type": "code",
   "execution_count": 46,
   "id": "76c65b99-bdf0-4217-a710-e9cb9c0f5982",
   "metadata": {},
   "outputs": [],
   "source": [
    "water_img = cv.imread('water.png', cv.IMREAD_UNCHANGED)\n",
    "lure_img = cv.imread('lure.png', cv.IMREAD_UNCHANGED)\n",
    "catch_img = cv.imread('catch.png', cv.IMREAD_UNCHANGED)\n",
    "full_fishing_img = cv.imread('full_fishing.png', cv.IMREAD_UNCHANGED)\n",
    "full_not_fishing_img = cv.imread('full_not_fishing.png', cv.IMREAD_UNCHANGED)"
   ]
  },
  {
   "cell_type": "code",
   "execution_count": 47,
   "id": "5a8f9127-9c45-410e-8916-6b5b821c4877",
   "metadata": {},
   "outputs": [
    {
     "data": {
      "text/plain": [
       "Size(width=1512, height=982)"
      ]
     },
     "execution_count": 47,
     "metadata": {},
     "output_type": "execute_result"
    }
   ],
   "source": [
    "screen_size = pyautogui.size()\n",
    "screen_size"
   ]
  },
  {
   "cell_type": "code",
   "execution_count": 48,
   "id": "7ccfd4a4-1ba3-4117-b2bd-ebe9dae84123",
   "metadata": {},
   "outputs": [
    {
     "data": {
      "text/plain": [
       "{'top': 147.3,\n",
       " 'left': 453.59999999999997,\n",
       " 'width': 604.8000000000001,\n",
       " 'height': 392.8}"
      ]
     },
     "execution_count": 48,
     "metadata": {},
     "output_type": "execute_result"
    }
   ],
   "source": [
    "target_width = screen_size.width * 0.4\n",
    "target_height = screen_size.height * 0.4\n",
    "bounding_box = {\n",
    "    'top': (screen_size.height - target_height) / 4,\n",
    "    'left': (screen_size.width - target_width) / 2,\n",
    "    'width': target_width,\n",
    "    'height': target_height,\n",
    "}\n",
    "bounding_box"
   ]
  },
  {
   "cell_type": "code",
   "execution_count": 49,
   "id": "49589c5b-1646-4214-b850-ef282c5eb669",
   "metadata": {},
   "outputs": [],
   "source": [
    "top = int(bounding_box['top']) * 2\n",
    "left = int(bounding_box['left']) * 2\n",
    "width = int(bounding_box['width']) * 2\n",
    "height = int(bounding_box['height']) * 2"
   ]
  },
  {
   "cell_type": "code",
   "execution_count": 50,
   "id": "10bf6107-630c-4ba8-90bc-0713c4b0c717",
   "metadata": {},
   "outputs": [
    {
     "data": {
      "text/plain": [
       "''"
      ]
     },
     "execution_count": 50,
     "metadata": {},
     "output_type": "execute_result"
    }
   ],
   "source": [
    "cv.rectangle(full_not_fishing_img, (left, top), (left + width, top + height), (0, 255, 255), 2)\n",
    "''"
   ]
  },
  {
   "cell_type": "code",
   "execution_count": 51,
   "id": "bdbf8dad-b514-45aa-8c82-8e50679c03bf",
   "metadata": {},
   "outputs": [],
   "source": [
    "cv.imshow('full_not_fishing_img', full_not_fishing_img)\n",
    "cv.waitKey()\n",
    "cv.destroyAllWindows()"
   ]
  },
  {
   "cell_type": "code",
   "execution_count": 52,
   "id": "89bb6f0c-e5f6-48ef-b83f-bfd512225fdf",
   "metadata": {},
   "outputs": [],
   "source": [
    "sct = mss()"
   ]
  },
  {
   "cell_type": "code",
   "execution_count": 53,
   "id": "921afc98-48fd-424a-a29a-ff70a2c2db22",
   "metadata": {},
   "outputs": [],
   "source": [
    "sct_img = sct.grab(bounding_box)\n",
    "cv.imshow('screen', np.array(sct_img))\n",
    "cv.waitKey()\n",
    "cv.destroyAllWindows()"
   ]
  },
  {
   "cell_type": "code",
   "execution_count": null,
   "id": "ed0082b2-8517-45df-b2b3-2bc45e23e75d",
   "metadata": {},
   "outputs": [],
   "source": []
  }
 ],
 "metadata": {
  "kernelspec": {
   "display_name": "Python 3 (ipykernel)",
   "language": "python",
   "name": "python3"
  },
  "language_info": {
   "codemirror_mode": {
    "name": "ipython",
    "version": 3
   },
   "file_extension": ".py",
   "mimetype": "text/x-python",
   "name": "python",
   "nbconvert_exporter": "python",
   "pygments_lexer": "ipython3",
   "version": "3.11.7"
  }
 },
 "nbformat": 4,
 "nbformat_minor": 5
}
