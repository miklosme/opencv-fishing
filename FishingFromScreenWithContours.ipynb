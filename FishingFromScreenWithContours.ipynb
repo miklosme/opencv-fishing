{
 "cells": [
  {
   "cell_type": "code",
   "execution_count": 1,
   "id": "d31f9f03-b719-460f-9a11-5010b3820eb4",
   "metadata": {},
   "outputs": [
    {
     "name": "stdout",
     "output_type": "stream",
     "text": [
      "\u001b[1;32mInstalling opencv-python\u001b[0m\u001b[1;33m...\u001b[0m\n",
      "\u001b[?25lResolving opencv-python\u001b[33m...\u001b[0m\n",
      "\u001b[2K✔ Installation Succeeded\n",
      "\u001b[2K\u001b[32m⠋\u001b[0m Installing opencv-python...\n",
      "\u001b[1A\u001b[2K\u001b[1;32mInstalling pyautogui\u001b[0m\u001b[1;33m...\u001b[0m\n",
      "\u001b[?25lResolving pyautogui\u001b[33m...\u001b[0m\n",
      "\u001b[2K✔ Installation Succeeded\n",
      "\u001b[2K\u001b[32m⠋\u001b[0m Installing pyautogui...\n",
      "\u001b[1A\u001b[2K\u001b[1;32mInstalling Pillow\u001b[0m\u001b[1;33m...\u001b[0m\n",
      "\u001b[?25lResolving Pillow\u001b[33m...\u001b[0m\n",
      "\u001b[2K✔ Installation Succeeded\n",
      "\u001b[2K\u001b[32m⠋\u001b[0m Installing Pillow...\n",
      "\u001b[1A\u001b[2K\u001b[1;32mInstalling mss\u001b[0m\u001b[1;33m...\u001b[0m\n",
      "\u001b[?25lResolving mss\u001b[33m...\u001b[0m\n",
      "\u001b[2K✔ Installation Succeeded\n",
      "\u001b[2K\u001b[32m⠋\u001b[0m Installing mss...\n",
      "\u001b[1A\u001b[2K\u001b[1mInstalling dependencies from Pipfile.lock \u001b[0m\u001b[1m(\u001b[0m\u001b[1mecc4ce\u001b[0m\u001b[1m)\u001b[0m\u001b[1;33m...\u001b[0m\n"
     ]
    }
   ],
   "source": [
    "!pipenv install opencv-python pyautogui Pillow mss"
   ]
  },
  {
   "cell_type": "code",
   "execution_count": 2,
   "id": "914c5f0f-f880-4b4c-ab0e-7a48e9bd78c9",
   "metadata": {},
   "outputs": [],
   "source": [
    "import cv2\n",
    "import numpy as np\n",
    "import pyautogui\n",
    "import os\n",
    "import subprocess\n",
    "import time\n",
    "from mss import mss\n",
    "from PIL import Image\n",
    "from IPython.display import display"
   ]
  },
  {
   "cell_type": "code",
   "execution_count": 3,
   "id": "76c65b99-bdf0-4217-a710-e9cb9c0f5982",
   "metadata": {},
   "outputs": [],
   "source": [
    "# water_img = cv2.imread('water.png', cv2.IMREAD_UNCHANGED)\n",
    "# lure_img = cv2.imread('lure.png', cv2.IMREAD_UNCHANGED)\n",
    "# catch_img = cv2.imread('catch.png', cv2.IMREAD_UNCHANGED)\n",
    "# full_fishing_img = cv2.imread('full_fishing.png', cv2.IMREAD_UNCHANGED)\n",
    "# full_not_fishing_img = cv2.imread('full_not_fishing.png', cv2.IMREAD_UNCHANGED)"
   ]
  },
  {
   "cell_type": "code",
   "execution_count": 4,
   "id": "5a8f9127-9c45-410e-8916-6b5b821c4877",
   "metadata": {},
   "outputs": [
    {
     "data": {
      "text/plain": [
       "Size(width=1512, height=982)"
      ]
     },
     "execution_count": 4,
     "metadata": {},
     "output_type": "execute_result"
    }
   ],
   "source": [
    "screen_size = pyautogui.size()\n",
    "screen_size"
   ]
  },
  {
   "cell_type": "code",
   "execution_count": 5,
   "id": "7ccfd4a4-1ba3-4117-b2bd-ebe9dae84123",
   "metadata": {},
   "outputs": [],
   "source": [
    "target_width = screen_size.width * 0.4\n",
    "target_height = screen_size.height * 0.25\n",
    "\n",
    "left = int((screen_size.width - target_width) * 0.5)\n",
    "top = int((screen_size.height - target_height) * 0.3)\n",
    "\n",
    "bottom = int(top + target_height)\n",
    "right = int(left + target_width)\n",
    "\n",
    "canvas = (left, right, top, bottom)"
   ]
  },
  {
   "cell_type": "code",
   "execution_count": 6,
   "id": "89bb6f0c-e5f6-48ef-b83f-bfd512225fdf",
   "metadata": {},
   "outputs": [],
   "source": [
    "sct = mss()"
   ]
  },
  {
   "cell_type": "code",
   "execution_count": 7,
   "id": "bc10921e-8992-4aec-9cb1-3204aee88215",
   "metadata": {},
   "outputs": [],
   "source": [
    "command = 'osascript -e \\'tell application \"System Events\" to get name of application processes whose frontmost is true\\''\n",
    "\n",
    "def is_warcraft():\n",
    "    return 'Warcraft' in subprocess.run(command, shell=True, capture_output=True, text=True).stdout\n",
    "\n",
    "while not is_warcraft():\n",
    "    time.sleep(1)"
   ]
  },
  {
   "cell_type": "code",
   "execution_count": 8,
   "id": "ee4aed56-55cd-4151-af5d-5634d5a55e0d",
   "metadata": {},
   "outputs": [],
   "source": [
    "# give me time to use the fishing rod\n",
    "# time.sleep(2)"
   ]
  },
  {
   "cell_type": "code",
   "execution_count": 9,
   "id": "0e3cd5e7-e877-41ac-927f-84dc35c70f58",
   "metadata": {},
   "outputs": [],
   "source": [
    "# when in wow, press the fisching hotkey\n",
    "pyautogui.press('8')\n",
    "time.sleep(1) # animation"
   ]
  },
  {
   "cell_type": "code",
   "execution_count": 10,
   "id": "921afc98-48fd-424a-a29a-ff70a2c2db22",
   "metadata": {},
   "outputs": [],
   "source": [
    "monitor = sct.monitors[1]\n",
    "screen_img = np.array(sct.grab(monitor))\n",
    "screen_img = cv2.resize(screen_img, (int(screen_size.width), int(screen_size.height)))"
   ]
  },
  {
   "cell_type": "code",
   "execution_count": 11,
   "id": "2c9559b5-f5e2-416f-b3d8-a1c12891957e",
   "metadata": {},
   "outputs": [],
   "source": [
    "# display(Image.fromarray(cv2.cvtColor(screen_img, cv2.COLOR_BGR2RGB)))"
   ]
  },
  {
   "cell_type": "code",
   "execution_count": 12,
   "id": "1b91e2d5-5a82-4a05-b5a4-1528d878059b",
   "metadata": {},
   "outputs": [
    {
     "data": {
      "text/plain": [
       "(982, 1512)"
      ]
     },
     "execution_count": 12,
     "metadata": {},
     "output_type": "execute_result"
    }
   ],
   "source": [
    "screen_img.shape[:2]"
   ]
  },
  {
   "cell_type": "code",
   "execution_count": 13,
   "id": "540e353c-f28c-4b0b-8741-17638ef54bfc",
   "metadata": {},
   "outputs": [
    {
     "data": {
      "text/plain": [
       "(982, 1512, 4)"
      ]
     },
     "execution_count": 13,
     "metadata": {},
     "output_type": "execute_result"
    }
   ],
   "source": [
    "# have to reshape to a 2D array (currently 1D)\n",
    "height, width = screen_img.shape[:2]\n",
    "image_2d = screen_img.reshape((height, width, 4))\n",
    "(height, width, 4)"
   ]
  },
  {
   "cell_type": "code",
   "execution_count": 14,
   "id": "9d3cfab5-33cf-4059-977a-4bc4ca0ba1eb",
   "metadata": {},
   "outputs": [],
   "source": [
    "cropped_image = image_2d[top:bottom, left:right]"
   ]
  },
  {
   "cell_type": "code",
   "execution_count": 15,
   "id": "81e0740b-cef7-45c4-893f-d50f36ab3f8c",
   "metadata": {},
   "outputs": [
    {
     "data": {
      "text/plain": [
       "2"
      ]
     },
     "execution_count": 15,
     "metadata": {},
     "output_type": "execute_result"
    }
   ],
   "source": [
    "# Convert to grayscale\n",
    "gray = cv2.cvtColor(cropped_image, cv2.COLOR_BGR2GRAY)\n",
    "\n",
    "# Noise reduction\n",
    "blurred = cv2.GaussianBlur(gray, (3, 3), 0)\n",
    "# blurred = gray\n",
    "\n",
    "# Edge detection\n",
    "edged = cv2.Canny(blurred, 50, 130)\n",
    "\n",
    "# Finding contours\n",
    "contours, _ = cv2.findContours(edged.copy(), cv2.RETR_EXTERNAL, cv2.CHAIN_APPROX_SIMPLE)\n",
    "\n",
    "len(contours)"
   ]
  },
  {
   "cell_type": "code",
   "execution_count": 16,
   "id": "58716e93-b911-4d4f-8c1e-31e394685c30",
   "metadata": {},
   "outputs": [],
   "source": [
    "cropped_image = image_2d[top:bottom, left:right]"
   ]
  },
  {
   "cell_type": "code",
   "execution_count": 17,
   "id": "2a539993-2baa-480b-b3ce-cf800853a8ec",
   "metadata": {},
   "outputs": [
    {
     "ename": "SyntaxError",
     "evalue": "expected ':' (3209357870.py, line 11)",
     "output_type": "error",
     "traceback": [
      "\u001b[0;36m  Cell \u001b[0;32mIn[17], line 11\u001b[0;36m\u001b[0m\n\u001b[0;31m    if (w < 10)\u001b[0m\n\u001b[0m               ^\u001b[0m\n\u001b[0;31mSyntaxError\u001b[0m\u001b[0;31m:\u001b[0m expected ':'\n"
     ]
    }
   ],
   "source": [
    "image_center = (cropped_image.shape[1] / 2, cropped_image.shape[0] / 2)\n",
    "\n",
    "# Initialize variables to store the minimum distance and the corresponding rectangle\n",
    "min_distance = float('inf')\n",
    "closest_rectangle = None\n",
    "\n",
    "for c in contours:\n",
    "    # Compute the bounding box of the contour\n",
    "    (x, y, w, h) = cv2.boundingRect(c)\n",
    "\n",
    "    if (w < 10)\n",
    "        continue\n",
    "    \n",
    "    # Calculate the center of the rectangle\n",
    "    rect_center = (x + w / 2, y + h / 2)\n",
    "\n",
    "    # Compute the Euclidean distance from the image center\n",
    "    distance = ((rect_center[0] - image_center[0]) ** 2 + (rect_center[1] - image_center[1]) ** 2) ** 0.5\n",
    "\n",
    "    # Update the minimum distance and rectangle if needed\n",
    "    if distance < min_distance:\n",
    "        min_distance = distance\n",
    "        closest_rectangle = (x, y, w, h)"
   ]
  },
  {
   "cell_type": "code",
   "execution_count": null,
   "id": "be51cd08-5b1f-4642-a5bb-c3b15cbbe24c",
   "metadata": {},
   "outputs": [],
   "source": [
    "if closest_rectangle is not None:\n",
    "    (x, y, w, h) = closest_rectangle\n",
    "    cv2.rectangle(cropped_image, (x, y), (x + w, y + h), (0, 0, 255), 2)"
   ]
  },
  {
   "cell_type": "code",
   "execution_count": null,
   "id": "085f09f9-b516-4e44-97ee-849dcd9a1e11",
   "metadata": {},
   "outputs": [],
   "source": [
    "for c in contours:\n",
    "    # Compute the bounding box of the contour\n",
    "    (x, y, w, h) = cv2.boundingRect(c)\n",
    "    \n",
    "    # Draw the bounding box\n",
    "    cv2.rectangle(cropped_image, (x, y), (x + w, y + h), (0, 255, 0), 2)"
   ]
  },
  {
   "cell_type": "code",
   "execution_count": null,
   "id": "275c2c23-a7e8-417f-94c7-b76c41b72a5b",
   "metadata": {},
   "outputs": [],
   "source": [
    "cv2.rectangle(screen_img, (left, top), (right, bottom), (255, 0, 0), 2)\n",
    "''"
   ]
  },
  {
   "cell_type": "code",
   "execution_count": null,
   "id": "1bb696d6-aa92-454c-81e3-f4e13062a1f5",
   "metadata": {},
   "outputs": [],
   "source": [
    "display(Image.fromarray(cv2.cvtColor(gray, cv2.COLOR_BGR2RGB)))\n",
    "display(Image.fromarray(cv2.cvtColor(blurred, cv2.COLOR_BGR2RGB)))\n",
    "display(Image.fromarray(cv2.cvtColor(edged, cv2.COLOR_BGR2RGB)))\n",
    "display(Image.fromarray(cv2.cvtColor(screen_img, cv2.COLOR_BGR2RGB)))"
   ]
  },
  {
   "cell_type": "code",
   "execution_count": null,
   "id": "dedb534b-233c-4b03-932f-8510983ea84d",
   "metadata": {},
   "outputs": [],
   "source": [
    "# is_success = closest_rectangle is not None and w > 5 and h > 5 and w < 70 and h < 70\n",
    "is_success = closest_rectangle is not None\n",
    "is_success"
   ]
  },
  {
   "cell_type": "code",
   "execution_count": null,
   "id": "b5a3c9e9-bd38-4b15-bfed-b79ec8fe7ef2",
   "metadata": {},
   "outputs": [],
   "source": [
    "if is_success:\n",
    "    (x, y, w, h) = closest_rectangle\n",
    "    pyautogui.moveTo(x=x + left + w, y=y + top + h - 5)"
   ]
  },
  {
   "cell_type": "code",
   "execution_count": null,
   "id": "d228d3dc-9640-4247-bb7a-56d88852dae4",
   "metadata": {},
   "outputs": [],
   "source": [
    "# if is_success:\n",
    "#     os.system('afplay /System/Library/Sounds/Glass.aiff')\n",
    "# else:\n",
    "#     os.system('afplay /System/Library/Sounds/Bottle.aiff')"
   ]
  },
  {
   "cell_type": "code",
   "execution_count": null,
   "id": "a4e9a780-b1fa-474c-939f-0f0d19867d85",
   "metadata": {},
   "outputs": [],
   "source": [
    "i = 0\n",
    "fishing_channeling_length = 20\n",
    "tickrate = 0.25\n",
    "margin = 10\n",
    "\n",
    "prev_brightness = 0\n",
    "\n",
    "# under this brightness change the pixels to black\n",
    "threshold = 160\n",
    "\n",
    "while is_success and i < fishing_channeling_length:\n",
    "    i = i + tickrate\n",
    "\n",
    "    \n",
    "    (x, y, w, h) = closest_rectangle\n",
    "    box = {'top': y + top - 10, 'left': x + left + 5, 'width': w + 5, 'height': h + 20}\n",
    "    img = np.array(sct.grab(box))\n",
    "\n",
    "    grayscale = cv2.cvtColor(img, cv2.COLOR_BGR2GRAY)\n",
    "    grayscale[grayscale < threshold] = 0\n",
    "\n",
    "    brightness = np.mean(grayscale)\n",
    "    brightness_change = 0 if prev_brightness == 0 else brightness - prev_brightness\n",
    "    \n",
    "    display(Image.fromarray(cv2.cvtColor(grayscale, cv2.COLOR_BGR2RGB)))\n",
    "    print(brightness_change)\n",
    "\n",
    "    if prev_brightness != 0 and brightness_change > 3:\n",
    "        # if not is_warcraft():\n",
    "        #     print('WoW is not focused anymore')\n",
    "        #     break;\n",
    "            \n",
    "        print('This is a spike!')\n",
    "        with pyautogui.hold('shift'):\n",
    "            pyautogui.click(button='right')\n",
    "        # os.system('afplay /System/Library/Sounds/Hero.aiff')\n",
    "        break;\n",
    "\n",
    "    prev_brightness = brightness\n",
    "    \n",
    "    time.sleep(1)"
   ]
  }
 ],
 "metadata": {
  "kernelspec": {
   "display_name": "Python 3 (ipykernel)",
   "language": "python",
   "name": "python3"
  },
  "language_info": {
   "codemirror_mode": {
    "name": "ipython",
    "version": 3
   },
   "file_extension": ".py",
   "mimetype": "text/x-python",
   "name": "python",
   "nbconvert_exporter": "python",
   "pygments_lexer": "ipython3",
   "version": "3.11.7"
  }
 },
 "nbformat": 4,
 "nbformat_minor": 5
}
